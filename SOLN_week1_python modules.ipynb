{
 "cells": [
  {
   "cell_type": "markdown",
   "metadata": {},
   "source": [
    "### Instrutions \n",
    "\n",
    "1. Replace **None** with your code. You can add multiple lines of code if needed.\n",
    "\n",
    "2. You can create additional variables if you need.\n",
    "\n",
    "3. ***DO NOT CHANGE THE NAME OF THE VARIABLES THAT ARE USED BELOW. EX- array_a, reshaped_array***\n",
    "\n",
    "4. For submission download this ipynb file and upload in your repository"
   ]
  },
  {
   "cell_type": "code",
   "execution_count": 1,
   "metadata": {},
   "outputs": [],
   "source": [
    "# Import required libraries (numpy, pandas, matplotlib)\n",
    "# Write code here\n",
    "import numpy as np\n",
    "import pandas as pd\n",
    "from matplotlib import pyplot as plt"
   ]
  },
  {
   "cell_type": "code",
   "execution_count": 2,
   "metadata": {},
   "outputs": [
    {
     "data": {
      "text/plain": [
       "array([94, 17, 57, 29, 81, 50, 29, 17, 30,  9,  9, 61, 85, 91, 71, 16, 15,\n",
       "       71, 50, 81])"
      ]
     },
     "execution_count": 2,
     "metadata": {},
     "output_type": "execute_result"
    }
   ],
   "source": [
    "# Task 1: Create a NumPy Array\n",
    "# Create a NumPy array `array_a` with 20 random integers between 1 and 100.\n",
    "# Expected output format: array_a should be a 1D array with 20 elements.\n",
    "array_a = np.random.randint(0,100,20)\n",
    "array_a"
   ]
  },
  {
   "cell_type": "code",
   "execution_count": 4,
   "metadata": {},
   "outputs": [
    {
     "data": {
      "text/plain": [
       "(5, 4)"
      ]
     },
     "execution_count": 4,
     "metadata": {},
     "output_type": "execute_result"
    }
   ],
   "source": [
    "# Task 2: Array Reshaping\n",
    "# Reshape `array_a` into a 2D array `reshaped_array` with shape (5, 4).\n",
    "# Expected output format: reshaped_array should be a 5x4 matrix.\n",
    "reshaped_array = np.reshape(array_a, (5,4))\n",
    "reshaped_array.shape"
   ]
  },
  {
   "cell_type": "code",
   "execution_count": 7,
   "metadata": {},
   "outputs": [
    {
     "data": {
      "text/plain": [
       "array([[94, 17, 57, 29]])"
      ]
     },
     "execution_count": 7,
     "metadata": {},
     "output_type": "execute_result"
    }
   ],
   "source": [
    "# Task 3: Array Indexing\n",
    "# Extract the first five elements of the first row of `reshaped_array` into `first_five_elements`.\n",
    "# Expected output format: first_five_elements should be a 1D array with 5 elements.\n",
    "\n",
    "# Question is wrong. First row has only 4 elements and not 5 (5 rows, 4 columns)\n",
    "first_five_elements = reshaped_array[:1, :]\n",
    "first_five_elements"
   ]
  },
  {
   "cell_type": "code",
   "execution_count": 8,
   "metadata": {},
   "outputs": [
    {
     "data": {
      "text/plain": [
       "(5, 4)"
      ]
     },
     "execution_count": 8,
     "metadata": {},
     "output_type": "execute_result"
    }
   ],
   "source": [
    "# Task 4: Element-wise Operations\n",
    "# Create another array `array_b` with the same shape as `reshaped_array`, and perform element-wise addition with `reshaped_array`.\n",
    "# Expected output format: added_arrays should be a 5x4 matrix, element-wise sum of reshaped_array and array_b.\n",
    "array_b = np.reshape(np.random.randint(0, 100, 20), (5,4))\n",
    "added_arrays = array_b + reshaped_array\n",
    "added_arrays.shape"
   ]
  },
  {
   "cell_type": "code",
   "execution_count": 10,
   "metadata": {},
   "outputs": [
    {
     "data": {
      "text/plain": [
       "(3, 3)"
      ]
     },
     "execution_count": 10,
     "metadata": {},
     "output_type": "execute_result"
    }
   ],
   "source": [
    "\n",
    "# Task 5: Matrix Multiplication\n",
    "# Create two 3x3 matrices `matrix_a` and `matrix_b`. Perform matrix multiplication of `matrix_a` and `matrix_b` to get `matrix_product`.\n",
    "# Expected output format: matrix_product should be a 3x3 matrix.\n",
    "matrix_a = np.random.randn(3,3)\n",
    "matrix_b = np.random.randn(3,3)\n",
    "matrix_product = matrix_a @ matrix_b\n",
    "matrix_product.shape"
   ]
  },
  {
   "cell_type": "code",
   "execution_count": 11,
   "metadata": {},
   "outputs": [
    {
     "data": {
      "text/plain": [
       "(5, 4)"
      ]
     },
     "execution_count": 11,
     "metadata": {},
     "output_type": "execute_result"
    }
   ],
   "source": [
    "\n",
    "# Task 6: Broadcasting\n",
    "# Create `array_c` with 4 random integers. Add `array_c` to `reshaped_array` using broadcasting.\n",
    "# Expected output format: broadcasted_array should be a 5x4 matrix.\n",
    "array_c = np.random.randint(0,100,4)\n",
    "broadcasted_array = array_c + reshaped_array\n",
    "broadcasted_array.shape"
   ]
  },
  {
   "cell_type": "code",
   "execution_count": 13,
   "metadata": {},
   "outputs": [
    {
     "data": {
      "text/plain": [
       "(2, 2)"
      ]
     },
     "execution_count": 13,
     "metadata": {},
     "output_type": "execute_result"
    }
   ],
   "source": [
    "\n",
    "# Task 7: Array Slicing and Stride\n",
    "# Slice `reshaped_array` using a stride to create `sliced_array`, taking every third row and every second column.\n",
    "# Expected output format: sliced_array should have shape (2, 2).\n",
    "\n",
    "sliced_array = reshaped_array[::3, ::2]\n",
    "sliced_array.shape"
   ]
  },
  {
   "cell_type": "code",
   "execution_count": 18,
   "metadata": {},
   "outputs": [
    {
     "data": {
      "text/plain": [
       "{'sum': 963, 'mean': 48.15, 'std': 29.112325568391128}"
      ]
     },
     "execution_count": 18,
     "metadata": {},
     "output_type": "execute_result"
    }
   ],
   "source": [
    "\n",
    "# Task 8: Statistical Computation\n",
    "# Compute the sum, mean, and standard deviation of `reshaped_array` and store them in a dictionary `stats`.\n",
    "# Expected output format: stats should be a dictionary with keys 'sum', 'mean', and 'std'.\n",
    "stats = {\"sum\" : np.sum(reshaped_array),\n",
    "        \"mean\" : np.mean(reshaped_array),\n",
    "        \"std\" : np.std(reshaped_array)}\n",
    "stats"
   ]
  },
  {
   "cell_type": "code",
   "execution_count": 20,
   "metadata": {},
   "outputs": [
    {
     "data": {
      "text/plain": [
       "(0, 9)"
      ]
     },
     "execution_count": 20,
     "metadata": {},
     "output_type": "execute_result"
    }
   ],
   "source": [
    "\n",
    "# Task 9: Find the Maximum and Minimum\n",
    "# Find the indices of the maximum and minimum values in `reshaped_array` using np.argmax and np.argmin.\n",
    "# Expected output format: max_index and min_index should be integers.\n",
    "max_index = np.argmax(reshaped_array)\n",
    "min_index = np.argmin(reshaped_array)\n",
    "max_index, min_index"
   ]
  },
  {
   "cell_type": "code",
   "execution_count": 26,
   "metadata": {},
   "outputs": [
    {
     "name": "stdout",
     "output_type": "stream",
     "text": [
      "[-0.80237301 -0.97899812 -0.67491562 -2.27598396  1.00553168  0.89706343\n",
      "  0.17268942 -2.74680812  1.19537491 -1.1065102 ]\n",
      "[0 0 0 0 1 1 0 0 1 0]\n"
     ]
    }
   ],
   "source": [
    "\n",
    "# Task 10: Advanced Array Manipulation\n",
    "# Create `array_d` with 10 random floating-point numbers and modify it to contain only 0 and 1 based on whether the value is greater than 0.5.\n",
    "# Expected output format: modified_array_d should be a 1D array of integers (0 or 1).\n",
    "array_d = np.random.randn(10)\n",
    "modified_array_d = np.where(array_d < 0.5, 0, 1)\n",
    "print(array_d)\n",
    "print(modified_array_d)"
   ]
  },
  {
   "cell_type": "markdown",
   "metadata": {},
   "source": [
    "##### Pandas Tasks"
   ]
  },
  {
   "cell_type": "code",
   "execution_count": 27,
   "metadata": {},
   "outputs": [
    {
     "data": {
      "text/html": [
       "<div>\n",
       "<style scoped>\n",
       "    .dataframe tbody tr th:only-of-type {\n",
       "        vertical-align: middle;\n",
       "    }\n",
       "\n",
       "    .dataframe tbody tr th {\n",
       "        vertical-align: top;\n",
       "    }\n",
       "\n",
       "    .dataframe thead th {\n",
       "        text-align: right;\n",
       "    }\n",
       "</style>\n",
       "<table border=\"1\" class=\"dataframe\">\n",
       "  <thead>\n",
       "    <tr style=\"text-align: right;\">\n",
       "      <th></th>\n",
       "      <th>A</th>\n",
       "      <th>B</th>\n",
       "      <th>C</th>\n",
       "      <th>D</th>\n",
       "    </tr>\n",
       "  </thead>\n",
       "  <tbody>\n",
       "    <tr>\n",
       "      <th>0</th>\n",
       "      <td>94</td>\n",
       "      <td>17</td>\n",
       "      <td>57</td>\n",
       "      <td>29</td>\n",
       "    </tr>\n",
       "    <tr>\n",
       "      <th>1</th>\n",
       "      <td>81</td>\n",
       "      <td>50</td>\n",
       "      <td>29</td>\n",
       "      <td>17</td>\n",
       "    </tr>\n",
       "    <tr>\n",
       "      <th>2</th>\n",
       "      <td>30</td>\n",
       "      <td>9</td>\n",
       "      <td>9</td>\n",
       "      <td>61</td>\n",
       "    </tr>\n",
       "    <tr>\n",
       "      <th>3</th>\n",
       "      <td>85</td>\n",
       "      <td>91</td>\n",
       "      <td>71</td>\n",
       "      <td>16</td>\n",
       "    </tr>\n",
       "    <tr>\n",
       "      <th>4</th>\n",
       "      <td>15</td>\n",
       "      <td>71</td>\n",
       "      <td>50</td>\n",
       "      <td>81</td>\n",
       "    </tr>\n",
       "  </tbody>\n",
       "</table>\n",
       "</div>"
      ],
      "text/plain": [
       "    A   B   C   D\n",
       "0  94  17  57  29\n",
       "1  81  50  29  17\n",
       "2  30   9   9  61\n",
       "3  85  91  71  16\n",
       "4  15  71  50  81"
      ]
     },
     "execution_count": 27,
     "metadata": {},
     "output_type": "execute_result"
    }
   ],
   "source": [
    "# Task 1: Create a DataFrame\n",
    "# Create a DataFrame `df_a` using `reshaped_array` with column names 'A', 'B', 'C', 'D'.\n",
    "# Expected output format: df_a should be a DataFrame with shape (5, 4).\n",
    "df_a = pd.DataFrame(columns=['A','B','C','D'], data=reshaped_array)\n",
    "df_a"
   ]
  },
  {
   "cell_type": "code",
   "execution_count": 28,
   "metadata": {},
   "outputs": [
    {
     "data": {
      "text/html": [
       "<div>\n",
       "<style scoped>\n",
       "    .dataframe tbody tr th:only-of-type {\n",
       "        vertical-align: middle;\n",
       "    }\n",
       "\n",
       "    .dataframe tbody tr th {\n",
       "        vertical-align: top;\n",
       "    }\n",
       "\n",
       "    .dataframe thead th {\n",
       "        text-align: right;\n",
       "    }\n",
       "</style>\n",
       "<table border=\"1\" class=\"dataframe\">\n",
       "  <thead>\n",
       "    <tr style=\"text-align: right;\">\n",
       "      <th></th>\n",
       "      <th>A</th>\n",
       "      <th>B</th>\n",
       "      <th>C</th>\n",
       "      <th>D</th>\n",
       "    </tr>\n",
       "  </thead>\n",
       "  <tbody>\n",
       "    <tr>\n",
       "      <th>0</th>\n",
       "      <td>94</td>\n",
       "      <td>17</td>\n",
       "      <td>57</td>\n",
       "      <td>29</td>\n",
       "    </tr>\n",
       "    <tr>\n",
       "      <th>1</th>\n",
       "      <td>81</td>\n",
       "      <td>50</td>\n",
       "      <td>29</td>\n",
       "      <td>17</td>\n",
       "    </tr>\n",
       "    <tr>\n",
       "      <th>2</th>\n",
       "      <td>30</td>\n",
       "      <td>9</td>\n",
       "      <td>9</td>\n",
       "      <td>61</td>\n",
       "    </tr>\n",
       "    <tr>\n",
       "      <th>3</th>\n",
       "      <td>85</td>\n",
       "      <td>91</td>\n",
       "      <td>71</td>\n",
       "      <td>16</td>\n",
       "    </tr>\n",
       "    <tr>\n",
       "      <th>4</th>\n",
       "      <td>15</td>\n",
       "      <td>71</td>\n",
       "      <td>50</td>\n",
       "      <td>81</td>\n",
       "    </tr>\n",
       "    <tr>\n",
       "      <th>5</th>\n",
       "      <td>1</td>\n",
       "      <td>3</td>\n",
       "      <td>39</td>\n",
       "      <td>46</td>\n",
       "    </tr>\n",
       "  </tbody>\n",
       "</table>\n",
       "</div>"
      ],
      "text/plain": [
       "    A   B   C   D\n",
       "0  94  17  57  29\n",
       "1  81  50  29  17\n",
       "2  30   9   9  61\n",
       "3  85  91  71  16\n",
       "4  15  71  50  81\n",
       "5   1   3  39  46"
      ]
     },
     "execution_count": 28,
     "metadata": {},
     "output_type": "execute_result"
    }
   ],
   "source": [
    "\n",
    "# Task 2: Row Operations\n",
    "# Add a new row `new_row` to `df_a`, containing 4 random integers between 1 and 50.\n",
    "# Expected output format: df_a should have 6 rows after adding `new_row`.\n",
    "new_row = np.random.randint(1,50,4)\n",
    "df_a.loc[len(df_a)] = new_row\n",
    "df_a"
   ]
  },
  {
   "cell_type": "code",
   "execution_count": 30,
   "metadata": {},
   "outputs": [
    {
     "data": {
      "text/html": [
       "<div>\n",
       "<style scoped>\n",
       "    .dataframe tbody tr th:only-of-type {\n",
       "        vertical-align: middle;\n",
       "    }\n",
       "\n",
       "    .dataframe tbody tr th {\n",
       "        vertical-align: top;\n",
       "    }\n",
       "\n",
       "    .dataframe thead th {\n",
       "        text-align: right;\n",
       "    }\n",
       "</style>\n",
       "<table border=\"1\" class=\"dataframe\">\n",
       "  <thead>\n",
       "    <tr style=\"text-align: right;\">\n",
       "      <th></th>\n",
       "      <th>A</th>\n",
       "      <th>B</th>\n",
       "      <th>C</th>\n",
       "      <th>D</th>\n",
       "      <th>Sum</th>\n",
       "    </tr>\n",
       "  </thead>\n",
       "  <tbody>\n",
       "    <tr>\n",
       "      <th>0</th>\n",
       "      <td>94</td>\n",
       "      <td>17</td>\n",
       "      <td>57</td>\n",
       "      <td>29</td>\n",
       "      <td>197.0</td>\n",
       "    </tr>\n",
       "    <tr>\n",
       "      <th>1</th>\n",
       "      <td>81</td>\n",
       "      <td>50</td>\n",
       "      <td>29</td>\n",
       "      <td>17</td>\n",
       "      <td>177.0</td>\n",
       "    </tr>\n",
       "    <tr>\n",
       "      <th>2</th>\n",
       "      <td>30</td>\n",
       "      <td>9</td>\n",
       "      <td>9</td>\n",
       "      <td>61</td>\n",
       "      <td>109.0</td>\n",
       "    </tr>\n",
       "    <tr>\n",
       "      <th>3</th>\n",
       "      <td>85</td>\n",
       "      <td>91</td>\n",
       "      <td>71</td>\n",
       "      <td>16</td>\n",
       "      <td>263.0</td>\n",
       "    </tr>\n",
       "    <tr>\n",
       "      <th>4</th>\n",
       "      <td>15</td>\n",
       "      <td>71</td>\n",
       "      <td>50</td>\n",
       "      <td>81</td>\n",
       "      <td>217.0</td>\n",
       "    </tr>\n",
       "    <tr>\n",
       "      <th>5</th>\n",
       "      <td>1</td>\n",
       "      <td>3</td>\n",
       "      <td>39</td>\n",
       "      <td>46</td>\n",
       "      <td>89.0</td>\n",
       "    </tr>\n",
       "  </tbody>\n",
       "</table>\n",
       "</div>"
      ],
      "text/plain": [
       "    A   B   C   D    Sum\n",
       "0  94  17  57  29  197.0\n",
       "1  81  50  29  17  177.0\n",
       "2  30   9   9  61  109.0\n",
       "3  85  91  71  16  263.0\n",
       "4  15  71  50  81  217.0\n",
       "5   1   3  39  46   89.0"
      ]
     },
     "execution_count": 30,
     "metadata": {},
     "output_type": "execute_result"
    }
   ],
   "source": [
    "\n",
    "# Task 3: Column Manipulation\n",
    "# Add a new column 'Sum' to `df_a` that stores the row-wise sum of the columns.\n",
    "# Expected output format: df_a should have a 'Sum' column.\n",
    "df_a['Sum'] = df_a.sum(axis=1)\n",
    "df_a"
   ]
  },
  {
   "cell_type": "code",
   "execution_count": 32,
   "metadata": {},
   "outputs": [
    {
     "data": {
      "text/plain": [
       "pandas.core.series.Series"
      ]
     },
     "execution_count": 32,
     "metadata": {},
     "output_type": "execute_result"
    }
   ],
   "source": [
    "\n",
    "# Task 4: Accessing Data\n",
    "# Extract the column 'C' from `df_a` and store it in a variable `col_c`.\n",
    "# Expected output format: col_c should be a pandas Series.\n",
    "col_c = df_a[\"C\"]\n",
    "type(col_c)"
   ]
  },
  {
   "cell_type": "code",
   "execution_count": 33,
   "metadata": {},
   "outputs": [
    {
     "data": {
      "text/html": [
       "<div>\n",
       "<style scoped>\n",
       "    .dataframe tbody tr th:only-of-type {\n",
       "        vertical-align: middle;\n",
       "    }\n",
       "\n",
       "    .dataframe tbody tr th {\n",
       "        vertical-align: top;\n",
       "    }\n",
       "\n",
       "    .dataframe thead th {\n",
       "        text-align: right;\n",
       "    }\n",
       "</style>\n",
       "<table border=\"1\" class=\"dataframe\">\n",
       "  <thead>\n",
       "    <tr style=\"text-align: right;\">\n",
       "      <th></th>\n",
       "      <th>A</th>\n",
       "      <th>B</th>\n",
       "      <th>C</th>\n",
       "      <th>D</th>\n",
       "      <th>Sum</th>\n",
       "    </tr>\n",
       "  </thead>\n",
       "  <tbody>\n",
       "    <tr>\n",
       "      <th>0</th>\n",
       "      <td>94</td>\n",
       "      <td>17</td>\n",
       "      <td>57</td>\n",
       "      <td>29</td>\n",
       "      <td>197.0</td>\n",
       "    </tr>\n",
       "    <tr>\n",
       "      <th>1</th>\n",
       "      <td>81</td>\n",
       "      <td>50</td>\n",
       "      <td>29</td>\n",
       "      <td>17</td>\n",
       "      <td>177.0</td>\n",
       "    </tr>\n",
       "    <tr>\n",
       "      <th>3</th>\n",
       "      <td>85</td>\n",
       "      <td>91</td>\n",
       "      <td>71</td>\n",
       "      <td>16</td>\n",
       "      <td>263.0</td>\n",
       "    </tr>\n",
       "  </tbody>\n",
       "</table>\n",
       "</div>"
      ],
      "text/plain": [
       "    A   B   C   D    Sum\n",
       "0  94  17  57  29  197.0\n",
       "1  81  50  29  17  177.0\n",
       "3  85  91  71  16  263.0"
      ]
     },
     "execution_count": 33,
     "metadata": {},
     "output_type": "execute_result"
    }
   ],
   "source": [
    "\n",
    "# Task 5: Filtering Data\n",
    "# Filter `df_a` to create a new DataFrame `filtered_df` where column 'A' has values greater than 30.\n",
    "# Expected output format: filtered_df should be a subset of df_a.\n",
    "filtered_df = df_a[df_a['A'] > 30]\n",
    "filtered_df"
   ]
  },
  {
   "cell_type": "code",
   "execution_count": 35,
   "metadata": {},
   "outputs": [
    {
     "name": "stdout",
     "output_type": "stream",
     "text": [
      "A       51.000000\n",
      "B       40.166667\n",
      "C       42.500000\n",
      "D       41.666667\n",
      "Sum    175.333333\n",
      "dtype: float64\n",
      "A      40.353439\n",
      "B      36.113248\n",
      "C      21.888353\n",
      "D      25.951236\n",
      "Sum    65.950486\n",
      "dtype: float64\n"
     ]
    }
   ],
   "source": [
    "\n",
    "# Task 6: Statistical Operations\n",
    "# Compute the mean and standard deviation of all columns in `df_a` and store them in `mean_values` and `std_values`.\n",
    "# Expected output format: mean_values and std_values should be pandas Series with column names as the index.\n",
    "mean_values = df_a.mean(axis=0)\n",
    "std_values = df_a.std(axis=0)\n",
    "print(mean_values)\n",
    "print(std_values)"
   ]
  },
  {
   "cell_type": "code",
   "execution_count": 36,
   "metadata": {},
   "outputs": [
    {
     "data": {
      "text/html": [
       "<div>\n",
       "<style scoped>\n",
       "    .dataframe tbody tr th:only-of-type {\n",
       "        vertical-align: middle;\n",
       "    }\n",
       "\n",
       "    .dataframe tbody tr th {\n",
       "        vertical-align: top;\n",
       "    }\n",
       "\n",
       "    .dataframe thead th {\n",
       "        text-align: right;\n",
       "    }\n",
       "</style>\n",
       "<table border=\"1\" class=\"dataframe\">\n",
       "  <thead>\n",
       "    <tr style=\"text-align: right;\">\n",
       "      <th></th>\n",
       "      <th>A</th>\n",
       "      <th>B</th>\n",
       "      <th>C</th>\n",
       "      <th>D</th>\n",
       "      <th>Sum</th>\n",
       "    </tr>\n",
       "  </thead>\n",
       "  <tbody>\n",
       "    <tr>\n",
       "      <th>0</th>\n",
       "      <td>94</td>\n",
       "      <td>17.0</td>\n",
       "      <td>57</td>\n",
       "      <td>29.0</td>\n",
       "      <td>197.0</td>\n",
       "    </tr>\n",
       "    <tr>\n",
       "      <th>1</th>\n",
       "      <td>81</td>\n",
       "      <td>50.0</td>\n",
       "      <td>29</td>\n",
       "      <td>17.0</td>\n",
       "      <td>177.0</td>\n",
       "    </tr>\n",
       "    <tr>\n",
       "      <th>2</th>\n",
       "      <td>30</td>\n",
       "      <td>46.4</td>\n",
       "      <td>9</td>\n",
       "      <td>61.0</td>\n",
       "      <td>109.0</td>\n",
       "    </tr>\n",
       "    <tr>\n",
       "      <th>3</th>\n",
       "      <td>85</td>\n",
       "      <td>91.0</td>\n",
       "      <td>71</td>\n",
       "      <td>16.0</td>\n",
       "      <td>263.0</td>\n",
       "    </tr>\n",
       "    <tr>\n",
       "      <th>4</th>\n",
       "      <td>15</td>\n",
       "      <td>71.0</td>\n",
       "      <td>50</td>\n",
       "      <td>33.8</td>\n",
       "      <td>217.0</td>\n",
       "    </tr>\n",
       "    <tr>\n",
       "      <th>5</th>\n",
       "      <td>1</td>\n",
       "      <td>3.0</td>\n",
       "      <td>39</td>\n",
       "      <td>46.0</td>\n",
       "      <td>89.0</td>\n",
       "    </tr>\n",
       "  </tbody>\n",
       "</table>\n",
       "</div>"
      ],
      "text/plain": [
       "    A     B   C     D    Sum\n",
       "0  94  17.0  57  29.0  197.0\n",
       "1  81  50.0  29  17.0  177.0\n",
       "2  30  46.4   9  61.0  109.0\n",
       "3  85  91.0  71  16.0  263.0\n",
       "4  15  71.0  50  33.8  217.0\n",
       "5   1   3.0  39  46.0   89.0"
      ]
     },
     "execution_count": 36,
     "metadata": {},
     "output_type": "execute_result"
    }
   ],
   "source": [
    "\n",
    "# Task 7: Handling Missing Data\n",
    "# Replace missing values (NaN) in `df_a` with the mean value of the respective columns.\n",
    "# Expected output format: df_a should have no missing values after filling NaN.\n",
    "df_a.iloc[2, 1] = np.nan\n",
    "df_a.iloc[4, 3] = np.nan\n",
    "df_a.fillna(df_a.mean(), inplace=True)\n",
    "df_a"
   ]
  },
  {
   "cell_type": "code",
   "execution_count": 40,
   "metadata": {},
   "outputs": [
    {
     "data": {
      "text/plain": [
       "0    94\n",
       "3    85\n",
       "1    81\n",
       "2    30\n",
       "4    15\n",
       "5     1\n",
       "Name: A, dtype: int32"
      ]
     },
     "execution_count": 40,
     "metadata": {},
     "output_type": "execute_result"
    }
   ],
   "source": [
    "\n",
    "# Task 8: Sorting Data\n",
    "# Sort `df_a` based on column 'A' in descending order and store the result in `df_a_sorted`.\n",
    "# Expected output format: df_a_sorted should be a sorted DataFrame.\n",
    "df_a_sorted = df_a['A'].sort_values(ascending=False)\n",
    "df_a_sorted"
   ]
  },
  {
   "cell_type": "code",
   "execution_count": 44,
   "metadata": {},
   "outputs": [
    {
     "data": {
      "text/html": [
       "<div>\n",
       "<style scoped>\n",
       "    .dataframe tbody tr th:only-of-type {\n",
       "        vertical-align: middle;\n",
       "    }\n",
       "\n",
       "    .dataframe tbody tr th {\n",
       "        vertical-align: top;\n",
       "    }\n",
       "\n",
       "    .dataframe thead th {\n",
       "        text-align: right;\n",
       "    }\n",
       "</style>\n",
       "<table border=\"1\" class=\"dataframe\">\n",
       "  <thead>\n",
       "    <tr style=\"text-align: right;\">\n",
       "      <th></th>\n",
       "      <th>B</th>\n",
       "      <th>C</th>\n",
       "      <th>D</th>\n",
       "      <th>Sum</th>\n",
       "    </tr>\n",
       "    <tr>\n",
       "      <th>A</th>\n",
       "      <th></th>\n",
       "      <th></th>\n",
       "      <th></th>\n",
       "      <th></th>\n",
       "    </tr>\n",
       "  </thead>\n",
       "  <tbody>\n",
       "    <tr>\n",
       "      <th>1</th>\n",
       "      <td>3.0</td>\n",
       "      <td>39</td>\n",
       "      <td>46.0</td>\n",
       "      <td>89.0</td>\n",
       "    </tr>\n",
       "    <tr>\n",
       "      <th>15</th>\n",
       "      <td>71.0</td>\n",
       "      <td>50</td>\n",
       "      <td>33.8</td>\n",
       "      <td>217.0</td>\n",
       "    </tr>\n",
       "    <tr>\n",
       "      <th>30</th>\n",
       "      <td>46.4</td>\n",
       "      <td>9</td>\n",
       "      <td>61.0</td>\n",
       "      <td>109.0</td>\n",
       "    </tr>\n",
       "    <tr>\n",
       "      <th>81</th>\n",
       "      <td>50.0</td>\n",
       "      <td>29</td>\n",
       "      <td>17.0</td>\n",
       "      <td>177.0</td>\n",
       "    </tr>\n",
       "    <tr>\n",
       "      <th>85</th>\n",
       "      <td>91.0</td>\n",
       "      <td>71</td>\n",
       "      <td>16.0</td>\n",
       "      <td>263.0</td>\n",
       "    </tr>\n",
       "    <tr>\n",
       "      <th>94</th>\n",
       "      <td>17.0</td>\n",
       "      <td>57</td>\n",
       "      <td>29.0</td>\n",
       "      <td>197.0</td>\n",
       "    </tr>\n",
       "  </tbody>\n",
       "</table>\n",
       "</div>"
      ],
      "text/plain": [
       "       B   C     D    Sum\n",
       "A                        \n",
       "1    3.0  39  46.0   89.0\n",
       "15  71.0  50  33.8  217.0\n",
       "30  46.4   9  61.0  109.0\n",
       "81  50.0  29  17.0  177.0\n",
       "85  91.0  71  16.0  263.0\n",
       "94  17.0  57  29.0  197.0"
      ]
     },
     "execution_count": 44,
     "metadata": {},
     "output_type": "execute_result"
    }
   ],
   "source": [
    "\n",
    "# Task 9: Grouping Data\n",
    "# Group `df_a` by column 'A' and calculate the sum for each group. Store the result in `grouped_df`.\n",
    "# Expected output format: grouped_df should be a DataFrame with grouped sums.\n",
    "grouped_df = df_a.groupby(df_a['A']).sum()\n",
    "grouped_df"
   ]
  },
  {
   "cell_type": "code",
   "execution_count": 46,
   "metadata": {},
   "outputs": [
    {
     "data": {
      "text/html": [
       "<div>\n",
       "<style scoped>\n",
       "    .dataframe tbody tr th:only-of-type {\n",
       "        vertical-align: middle;\n",
       "    }\n",
       "\n",
       "    .dataframe tbody tr th {\n",
       "        vertical-align: top;\n",
       "    }\n",
       "\n",
       "    .dataframe thead th {\n",
       "        text-align: right;\n",
       "    }\n",
       "</style>\n",
       "<table border=\"1\" class=\"dataframe\">\n",
       "  <thead>\n",
       "    <tr style=\"text-align: right;\">\n",
       "      <th></th>\n",
       "      <th>A</th>\n",
       "      <th>B_x</th>\n",
       "      <th>C_x</th>\n",
       "      <th>D_x</th>\n",
       "      <th>Sum_x</th>\n",
       "      <th>B_y</th>\n",
       "      <th>C_y</th>\n",
       "      <th>D_y</th>\n",
       "      <th>Sum_y</th>\n",
       "    </tr>\n",
       "  </thead>\n",
       "  <tbody>\n",
       "    <tr>\n",
       "      <th>0</th>\n",
       "      <td>94</td>\n",
       "      <td>17.0</td>\n",
       "      <td>57</td>\n",
       "      <td>29.0</td>\n",
       "      <td>197.0</td>\n",
       "      <td>19.0</td>\n",
       "      <td>59</td>\n",
       "      <td>31.0</td>\n",
       "      <td>199.0</td>\n",
       "    </tr>\n",
       "    <tr>\n",
       "      <th>1</th>\n",
       "      <td>81</td>\n",
       "      <td>50.0</td>\n",
       "      <td>29</td>\n",
       "      <td>17.0</td>\n",
       "      <td>177.0</td>\n",
       "      <td>52.0</td>\n",
       "      <td>31</td>\n",
       "      <td>19.0</td>\n",
       "      <td>179.0</td>\n",
       "    </tr>\n",
       "    <tr>\n",
       "      <th>2</th>\n",
       "      <td>30</td>\n",
       "      <td>46.4</td>\n",
       "      <td>9</td>\n",
       "      <td>61.0</td>\n",
       "      <td>109.0</td>\n",
       "      <td>48.4</td>\n",
       "      <td>11</td>\n",
       "      <td>63.0</td>\n",
       "      <td>111.0</td>\n",
       "    </tr>\n",
       "    <tr>\n",
       "      <th>3</th>\n",
       "      <td>85</td>\n",
       "      <td>91.0</td>\n",
       "      <td>71</td>\n",
       "      <td>16.0</td>\n",
       "      <td>263.0</td>\n",
       "      <td>93.0</td>\n",
       "      <td>73</td>\n",
       "      <td>18.0</td>\n",
       "      <td>265.0</td>\n",
       "    </tr>\n",
       "    <tr>\n",
       "      <th>4</th>\n",
       "      <td>15</td>\n",
       "      <td>71.0</td>\n",
       "      <td>50</td>\n",
       "      <td>33.8</td>\n",
       "      <td>217.0</td>\n",
       "      <td>73.0</td>\n",
       "      <td>52</td>\n",
       "      <td>35.8</td>\n",
       "      <td>219.0</td>\n",
       "    </tr>\n",
       "    <tr>\n",
       "      <th>5</th>\n",
       "      <td>1</td>\n",
       "      <td>3.0</td>\n",
       "      <td>39</td>\n",
       "      <td>46.0</td>\n",
       "      <td>89.0</td>\n",
       "      <td>5.0</td>\n",
       "      <td>41</td>\n",
       "      <td>48.0</td>\n",
       "      <td>91.0</td>\n",
       "    </tr>\n",
       "  </tbody>\n",
       "</table>\n",
       "</div>"
      ],
      "text/plain": [
       "    A   B_x  C_x   D_x  Sum_x   B_y  C_y   D_y  Sum_y\n",
       "0  94  17.0   57  29.0  197.0  19.0   59  31.0  199.0\n",
       "1  81  50.0   29  17.0  177.0  52.0   31  19.0  179.0\n",
       "2  30  46.4    9  61.0  109.0  48.4   11  63.0  111.0\n",
       "3  85  91.0   71  16.0  263.0  93.0   73  18.0  265.0\n",
       "4  15  71.0   50  33.8  217.0  73.0   52  35.8  219.0\n",
       "5   1   3.0   39  46.0   89.0   5.0   41  48.0   91.0"
      ]
     },
     "execution_count": 46,
     "metadata": {},
     "output_type": "execute_result"
    }
   ],
   "source": [
    "\n",
    "# Task 10: Merging DataFrames\n",
    "# Create another DataFrame `df_b` and merge it with `df_a` on column 'A', using an inner join.\n",
    "# Expected output format: merged_df should be a DataFrame containing rows where 'A' exists in both.\n",
    "df_b = df_a + 2\n",
    "df_b['A'] = df_a['A']\n",
    "merged_df = pd.merge(df_a, df_b, on='A', how='inner')\n",
    "merged_df"
   ]
  },
  {
   "cell_type": "markdown",
   "metadata": {},
   "source": [
    "#### Matplotlib Tasks"
   ]
  },
  {
   "cell_type": "code",
   "execution_count": 50,
   "metadata": {},
   "outputs": [
    {
     "name": "stdout",
     "output_type": "stream",
     "text": [
      "[94 17 57 29 81 50 29 17 30  9  9 61 85 91 71 16 15 71 50 81] len =  20\n",
      "[151  45  98  52 131 137 114 115  58  85  36  91 161 131 138  25  58 139\n",
      " 125 106] len =  20\n"
     ]
    },
    {
     "data": {
      "image/png": "[encoded data removed]",
      "text/plain": [
       "<Figure size 640x480 with 1 Axes>"
      ]
     },
     "metadata": {},
     "output_type": "display_data"
    }
   ],
   "source": [
    "# Task 1: Basic Plot\n",
    "# Create a simple line plot using `array_a` as the x-values and `added_arrays` as the y-values.\n",
    "print(array_a, 'len = ', len(array_a))\n",
    "print(added_arrays.ravel(), \"len = \", len(added_arrays.ravel()))\n",
    "plt.plot(array_a, added_arrays.ravel())\n",
    "plt.show()"
   ]
  },
  {
   "cell_type": "code",
   "execution_count": 51,
   "metadata": {},
   "outputs": [
    {
     "data": {
      "image/png": "[encoded data removed]",
      "text/plain": [
       "<Figure size 640x480 with 1 Axes>"
      ]
     },
     "metadata": {},
     "output_type": "display_data"
    }
   ],
   "source": [
    "\n",
    "# Task 2: Histogram\n",
    "# Create a histogram for `array_a` with 10 bins and display the plot.\n",
    "plt.hist(array_a, bins=10)\n",
    "plt.show()\n",
    "\n"
   ]
  },
  {
   "cell_type": "code",
   "execution_count": 52,
   "metadata": {},
   "outputs": [
    {
     "data": {
      "image/png": "[encoded data removed]",
      "text/plain": [
       "<Figure size 640x480 with 1 Axes>"
      ]
     },
     "metadata": {},
     "output_type": "display_data"
    }
   ],
   "source": [
    "# Task 3: Scatter Plot\n",
    "# Create a scatter plot using `array_a` as the x-values and `array_b` as the y-values.\n",
    "plt.scatter(array_a, array_b)\n",
    "plt.show()"
   ]
  },
  {
   "cell_type": "code",
   "execution_count": 54,
   "metadata": {},
   "outputs": [
    {
     "data": {
      "image/png": "[encoded data removed]",
      "text/plain": [
       "<Figure size 640x480 with 1 Axes>"
      ]
     },
     "metadata": {},
     "output_type": "display_data"
    }
   ],
   "source": [
    "# Task 4: Plot with Labels and Title\n",
    "# Create a plot with labeled axes and a title, using `array_a` and `array_b` as the x and y values respectively.\n",
    "plt.plot(array_a, array_b.ravel())\n",
    "plt.xlabel(\"X-axis Label\")\n",
    "plt.ylabel(\"Y-axis Label\")\n",
    "plt.title(\"Some title\")\n",
    "plt.show()"
   ]
  },
  {
   "cell_type": "code",
   "execution_count": null,
   "metadata": {},
   "outputs": [],
   "source": []
  },
  {
   "cell_type": "code",
   "execution_count": null,
   "metadata": {},
   "outputs": [],
   "source": []
  },
  {
   "cell_type": "code",
   "execution_count": null,
   "metadata": {},
   "outputs": [],
   "source": []
  },
  {
   "cell_type": "code",
   "execution_count": null,
   "metadata": {},
   "outputs": [],
   "source": []
  },
  {
   "cell_type": "code",
   "execution_count": null,
   "metadata": {},
   "outputs": [],
   "source": []
  },
  {
   "cell_type": "code",
   "execution_count": null,
   "metadata": {},
   "outputs": [],
   "source": []
  },
  {
   "cell_type": "code",
   "execution_count": null,
   "metadata": {},
   "outputs": [],
   "source": []
  },
  {
   "cell_type": "code",
   "execution_count": null,
   "metadata": {},
   "outputs": [],
   "source": []
  },
  {
   "cell_type": "code",
   "execution_count": null,
   "metadata": {},
   "outputs": [],
   "source": []
  }
 ],
 "metadata": {
  "kernelspec": {
   "display_name": "Python 3 (ipykernel)",
   "language": "python",
   "name": "python3"
  },
  "language_info": {
   "codemirror_mode": {
    "name": "ipython",
    "version": 3
   },
   "file_extension": ".py",
   "mimetype": "text/x-python",
   "name": "python",
   "nbconvert_exporter": "python",
   "pygments_lexer": "ipython3",
   "version": "3.11.5"
  }
 },
 "nbformat": 4,
 "nbformat_minor": 2
}
